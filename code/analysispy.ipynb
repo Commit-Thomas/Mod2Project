{
 "cells": [
  {
   "cell_type": "code",
   "execution_count": 1,
   "id": "b1b92d30",
   "metadata": {},
   "outputs": [],
   "source": [
    "#importing pandas library\n",
    "\n",
    "import pandas as pd\n"
   ]
  },
  {
   "cell_type": "code",
   "execution_count": 2,
   "id": "f6074b96",
   "metadata": {},
   "outputs": [],
   "source": [
    "#storing csv to df\n",
    "\n",
    "df = pd.read_csv(\"https://data.cityofnewyork.us/resource/2nwg-uqyg.csv?$query=SELECT%0A%20%20%60date%60%2C%0A%20%20%60mod_zcta%60%2C%0A%20%20%60total_ed_visits%60%2C%0A%20%20%60ili_pne_visits%60%2C%0A%20%20%60ili_pne_admissions%60%0AWHERE%20%60date%60%20IS%20NOT%20NULL%0AORDER%20BY%20%60extract_date%60%20DESC%20NULL%20FIRST\")\n",
    "#removing time from date string\n",
    "df['date'] = df['date'].str.replace('T00:00:00.000','')"
   ]
  },
  {
   "cell_type": "code",
   "execution_count": 3,
   "id": "4cb35c86",
   "metadata": {},
   "outputs": [
    {
     "data": {
      "text/html": [
       "<div>\n",
       "<style scoped>\n",
       "    .dataframe tbody tr th:only-of-type {\n",
       "        vertical-align: middle;\n",
       "    }\n",
       "\n",
       "    .dataframe tbody tr th {\n",
       "        vertical-align: top;\n",
       "    }\n",
       "\n",
       "    .dataframe thead th {\n",
       "        text-align: right;\n",
       "    }\n",
       "</style>\n",
       "<table border=\"1\" class=\"dataframe\">\n",
       "  <thead>\n",
       "    <tr style=\"text-align: right;\">\n",
       "      <th></th>\n",
       "      <th>date</th>\n",
       "      <th>mod_zcta</th>\n",
       "      <th>total_ed_visits</th>\n",
       "      <th>ili_pne_visits</th>\n",
       "      <th>ili_pne_admissions</th>\n",
       "    </tr>\n",
       "  </thead>\n",
       "  <tbody>\n",
       "    <tr>\n",
       "      <th>0</th>\n",
       "      <td>2020-10-27</td>\n",
       "      <td>11432</td>\n",
       "      <td>65</td>\n",
       "      <td>1</td>\n",
       "      <td>0</td>\n",
       "    </tr>\n",
       "    <tr>\n",
       "      <th>1</th>\n",
       "      <td>2021-02-10</td>\n",
       "      <td>11210</td>\n",
       "      <td>54</td>\n",
       "      <td>7</td>\n",
       "      <td>4</td>\n",
       "    </tr>\n",
       "    <tr>\n",
       "      <th>2</th>\n",
       "      <td>2022-05-13</td>\n",
       "      <td>10468</td>\n",
       "      <td>139</td>\n",
       "      <td>5</td>\n",
       "      <td>0</td>\n",
       "    </tr>\n",
       "    <tr>\n",
       "      <th>3</th>\n",
       "      <td>2020-03-02</td>\n",
       "      <td>10469</td>\n",
       "      <td>130</td>\n",
       "      <td>17</td>\n",
       "      <td>3</td>\n",
       "    </tr>\n",
       "    <tr>\n",
       "      <th>4</th>\n",
       "      <td>2022-04-05</td>\n",
       "      <td>10044</td>\n",
       "      <td>10</td>\n",
       "      <td>0</td>\n",
       "      <td>0</td>\n",
       "    </tr>\n",
       "  </tbody>\n",
       "</table>\n",
       "</div>"
      ],
      "text/plain": [
       "        date  mod_zcta  total_ed_visits  ili_pne_visits  ili_pne_admissions\n",
       "0 2020-10-27     11432               65               1                   0\n",
       "1 2021-02-10     11210               54               7                   4\n",
       "2 2022-05-13     10468              139               5                   0\n",
       "3 2020-03-02     10469              130              17                   3\n",
       "4 2022-04-05     10044               10               0                   0"
      ]
     },
     "execution_count": 3,
     "metadata": {},
     "output_type": "execute_result"
    }
   ],
   "source": [
    "#turning date into datetime from string\n",
    "df['date'] = pd.to_datetime(df['date'])\n",
    "\n",
    "df.head()"
   ]
  },
  {
   "cell_type": "code",
   "execution_count": 4,
   "id": "cc32ebb4",
   "metadata": {},
   "outputs": [],
   "source": [
    "#renaming mod_zcta to zip code for legibility\n",
    "df = df.rename(columns= {'mod_zcta':'zip_code'})\n"
   ]
  },
  {
   "cell_type": "code",
   "execution_count": 36,
   "id": "a448fc3e",
   "metadata": {},
   "outputs": [],
   "source": [
    "#creating boroughvalues list to store for borough column based on zip code\n",
    "\n",
    "boroughvalues = []\n",
    "\n",
    "for i in range(len(df)):\n",
    "    zip_code = df.iloc[i]['zip_code']\n",
    "    if zip_code < 10300:\n",
    "        boroughvalues.append('Manhattan')\n",
    "    elif  10300 < zip_code < 10400:\n",
    "        boroughvalues.append(\"Staten Island\")\n",
    "    elif 10400 < zip_code < 10500:\n",
    "        boroughvalues.append(\"Bronx\")\n",
    "    elif 11200 < zip_code < 11300:\n",
    "        boroughvalues.append(\"Brooklyn\")\n",
    "    else:\n",
    "        boroughvalues.append('Queens')\n",
    "\n",
    "#assigning borough column to list values from boroughvalues\n",
    "df['borough'] = boroughvalues\n",
    "\n",
    "df.to_csv('analysisclean.csv', index= False)\n",
    "\n",
    "\n",
    "#df['date'].groupby(df['zip_code']).count()\n",
    "#df['date'].duplicated().sum()\n",
    "\n"
   ]
  }
 ],
 "metadata": {
  "kernelspec": {
   "display_name": "base",
   "language": "python",
   "name": "python3"
  },
  "language_info": {
   "codemirror_mode": {
    "name": "ipython",
    "version": 3
   },
   "file_extension": ".py",
   "mimetype": "text/x-python",
   "name": "python",
   "nbconvert_exporter": "python",
   "pygments_lexer": "ipython3",
   "version": "3.12.9"
  }
 },
 "nbformat": 4,
 "nbformat_minor": 5
}
