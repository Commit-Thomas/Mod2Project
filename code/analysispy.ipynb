{
 "cells": [
  {
   "cell_type": "code",
   "execution_count": 7,
   "id": "b1b92d30",
   "metadata": {},
   "outputs": [],
   "source": [
    "#importing pandas library\n",
    "\n",
    "import pandas as pd\n"
   ]
  },
  {
   "cell_type": "code",
   "execution_count": 24,
   "id": "f6074b96",
   "metadata": {},
   "outputs": [],
   "source": [
    "#storing csv to df\n",
    "\n",
    "df = pd.read_csv(\"https://data.cityofnewyork.us/resource/2nwg-uqyg.csv?$limit=50000\")\n",
    "#removing time from date string\n",
    "df['date'] = df['date'].str.replace('T00:00:00.000','')\n",
    "df = df.drop('extract_date',axis = 1)"
   ]
  },
  {
   "cell_type": "code",
   "execution_count": 25,
   "id": "4cb35c86",
   "metadata": {},
   "outputs": [
    {
     "data": {
      "text/html": [
       "<div>\n",
       "<style scoped>\n",
       "    .dataframe tbody tr th:only-of-type {\n",
       "        vertical-align: middle;\n",
       "    }\n",
       "\n",
       "    .dataframe tbody tr th {\n",
       "        vertical-align: top;\n",
       "    }\n",
       "\n",
       "    .dataframe thead th {\n",
       "        text-align: right;\n",
       "    }\n",
       "</style>\n",
       "<table border=\"1\" class=\"dataframe\">\n",
       "  <thead>\n",
       "    <tr style=\"text-align: right;\">\n",
       "      <th></th>\n",
       "      <th>date</th>\n",
       "      <th>mod_zcta</th>\n",
       "      <th>total_ed_visits</th>\n",
       "      <th>ili_pne_visits</th>\n",
       "      <th>ili_pne_admissions</th>\n",
       "    </tr>\n",
       "  </thead>\n",
       "  <tbody>\n",
       "    <tr>\n",
       "      <th>0</th>\n",
       "      <td>2022-03-08</td>\n",
       "      <td>10021</td>\n",
       "      <td>18</td>\n",
       "      <td>2</td>\n",
       "      <td>1</td>\n",
       "    </tr>\n",
       "    <tr>\n",
       "      <th>1</th>\n",
       "      <td>2020-12-15</td>\n",
       "      <td>10033</td>\n",
       "      <td>54</td>\n",
       "      <td>4</td>\n",
       "      <td>0</td>\n",
       "    </tr>\n",
       "    <tr>\n",
       "      <th>2</th>\n",
       "      <td>2021-08-01</td>\n",
       "      <td>11432</td>\n",
       "      <td>81</td>\n",
       "      <td>6</td>\n",
       "      <td>0</td>\n",
       "    </tr>\n",
       "    <tr>\n",
       "      <th>3</th>\n",
       "      <td>2021-04-23</td>\n",
       "      <td>10032</td>\n",
       "      <td>70</td>\n",
       "      <td>2</td>\n",
       "      <td>0</td>\n",
       "    </tr>\n",
       "    <tr>\n",
       "      <th>4</th>\n",
       "      <td>2022-01-02</td>\n",
       "      <td>10459</td>\n",
       "      <td>110</td>\n",
       "      <td>20</td>\n",
       "      <td>3</td>\n",
       "    </tr>\n",
       "  </tbody>\n",
       "</table>\n",
       "</div>"
      ],
      "text/plain": [
       "        date  mod_zcta  total_ed_visits  ili_pne_visits  ili_pne_admissions\n",
       "0 2022-03-08     10021               18               2                   1\n",
       "1 2020-12-15     10033               54               4                   0\n",
       "2 2021-08-01     11432               81               6                   0\n",
       "3 2021-04-23     10032               70               2                   0\n",
       "4 2022-01-02     10459              110              20                   3"
      ]
     },
     "execution_count": 25,
     "metadata": {},
     "output_type": "execute_result"
    }
   ],
   "source": [
    "#turning date into datetime from string\n",
    "df['date'] = pd.to_datetime(df['date'])\n",
    "\n",
    "df.head()"
   ]
  },
  {
   "cell_type": "code",
   "execution_count": 26,
   "id": "cc32ebb4",
   "metadata": {},
   "outputs": [],
   "source": [
    "#renaming mod_zcta to zip code for legibility\n",
    "df = df.rename(columns= {'mod_zcta':'zip_code'})\n"
   ]
  },
  {
   "cell_type": "code",
   "execution_count": 27,
   "id": "a448fc3e",
   "metadata": {},
   "outputs": [],
   "source": [
    "#creating boroughvalues list to store for borough column based on zip code\n",
    "\n",
    "boroughvalues = []\n",
    "\n",
    "#for loop through full length of data\n",
    "for i in range(len(df)):\n",
    "    #setting zip_code variable to value of zip code in iteration row\n",
    "    zip_code = df.iloc[i]['zip_code']\n",
    "    if zip_code < 10300:\n",
    "        boroughvalues.append('Manhattan')\n",
    "    elif  10300 < zip_code < 10400:\n",
    "        boroughvalues.append(\"Staten Island\")\n",
    "    elif 10400 < zip_code < 10500:\n",
    "        boroughvalues.append(\"Bronx\")\n",
    "    elif 11200 < zip_code < 11300:\n",
    "        boroughvalues.append(\"Brooklyn\")\n",
    "    else:\n",
    "        boroughvalues.append('Queens')\n",
    "\n",
    "#assigning borough column to list values from boroughvalues\n",
    "df['borough'] = boroughvalues\n",
    "\n",
    "df.to_csv('analysisclean.csv', index= False)\n",
    "\n",
    "\n",
    "#df['date'].groupby(df['zip_code']).count()\n",
    "#df['date'].duplicated().sum()\n",
    "\n"
   ]
  },
  {
   "cell_type": "code",
   "execution_count": 33,
   "id": "39a26b3c",
   "metadata": {},
   "outputs": [
    {
     "data": {
      "text/plain": [
       "zip_code\n",
       "10026    328\n",
       "10036    325\n",
       "10304    324\n",
       "11230    323\n",
       "11373    322\n",
       "        ... \n",
       "10004    232\n",
       "11697    230\n",
       "11109    221\n",
       "11363    190\n",
       "10000      7\n",
       "Name: count, Length: 178, dtype: int64"
      ]
     },
     "execution_count": 33,
     "metadata": {},
     "output_type": "execute_result"
    }
   ],
   "source": [
    "df['zip_code'].value_counts()"
   ]
  },
  {
   "cell_type": "code",
   "execution_count": 34,
   "id": "8b31fca6",
   "metadata": {},
   "outputs": [
    {
     "data": {
      "text/plain": [
       "borough\n",
       "Queens           16644\n",
       "Manhattan        12263\n",
       "Brooklyn         10488\n",
       "Bronx             7080\n",
       "Staten Island     3525\n",
       "Name: count, dtype: int64"
      ]
     },
     "execution_count": 34,
     "metadata": {},
     "output_type": "execute_result"
    }
   ],
   "source": [
    "df['borough'].value_counts()"
   ]
  }
 ],
 "metadata": {
  "kernelspec": {
   "display_name": "base",
   "language": "python",
   "name": "python3"
  },
  "language_info": {
   "codemirror_mode": {
    "name": "ipython",
    "version": 3
   },
   "file_extension": ".py",
   "mimetype": "text/x-python",
   "name": "python",
   "nbconvert_exporter": "python",
   "pygments_lexer": "ipython3",
   "version": "3.12.9"
  }
 },
 "nbformat": 4,
 "nbformat_minor": 5
}
